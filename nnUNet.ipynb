{
  "nbformat": 4,
  "nbformat_minor": 0,
  "metadata": {
    "colab": {
      "provenance": []
    },
    "kernelspec": {
      "name": "python3",
      "display_name": "Python 3"
    },
    "language_info": {
      "name": "python"
    }
  },
  "cells": [
    {
      "cell_type": "code",
      "source": [
        "from google.colab import drive\n",
        "drive.mount('/content/drive')"
      ],
      "metadata": {
        "id": "ADV0o920sflT"
      },
      "execution_count": null,
      "outputs": []
    },
    {
      "cell_type": "code",
      "source": [
        "import nibabel as nib\n",
        "import numpy as np\n",
        "import os\n",
        "import pathlib"
      ],
      "metadata": {
        "id": "9AkgINUw5cN4"
      },
      "execution_count": null,
      "outputs": []
    },
    {
      "cell_type": "code",
      "source": [
        "import os,random"
      ],
      "metadata": {
        "id": "HX35wi_AxZu8"
      },
      "execution_count": null,
      "outputs": []
    },
    {
      "cell_type": "code",
      "source": [
        "# !unzip \"/content/drive/MyDrive/brats15\""
      ],
      "metadata": {
        "id": "wb5a0fufiRTf"
      },
      "execution_count": null,
      "outputs": []
    },
    {
      "cell_type": "code",
      "source": [
        "!pip install batchgenerators"
      ],
      "metadata": {
        "id": "wp9yyWHp5uFv"
      },
      "execution_count": null,
      "outputs": []
    },
    {
      "cell_type": "code",
      "execution_count": null,
      "metadata": {
        "id": "TbDYJHATsYBU"
      },
      "outputs": [],
      "source": [
        "!pip install nnunetv2"
      ]
    },
    {
      "cell_type": "code",
      "source": [
        "!pip install --upgrade git+https://github.com/FabianIsensee/hiddenlayer.git"
      ],
      "metadata": {
        "id": "-xS1NEjQ6XnJ"
      },
      "execution_count": null,
      "outputs": []
    },
    {
      "cell_type": "code",
      "source": [
        "!mkdir -p \"/content/drive/MyDrive/TCIA/nnUNet/nnUNet_preprocessed\"\n",
        "!mkdir -p \"/content/drive/MyDrive/TCIA/nnUNet/nnUNet_raw\"\n",
        "!mkdir -p \"/content/drive/MyDrive/TCIA/nnUNet/nnUNet_raw/DatasetGlioblastoma\"\n",
        "!mkdir -p \"/content/drive/MyDrive/TCIA/nnUNet/nnUNet_raw/DatasetGlioblastoma/imagesTr\"\n",
        "!mkdir -p \"/content/drive/MyDrive/TCIA/nnUNet/nnUNet_raw/DatasetGlioblastoma/imagesTs\"\n",
        "!mkdir -p \"/content/drive/MyDrive/TCIA/nnUNet/nnUNet_raw/DatasetGlioblastoma/labelsTr\"\n",
        "!mkdir -p \"/content/drive/MyDrive/TCIA/nnUNet/nnUNet_results\"\n",
        "!mkdir -p \"/content/drive/MyDrive/TCIA/nnUNet/nnUNet_results/inference\"\n",
        "!mkdir -p \"/content/drive/MyDrive/TCIA/nnUNet/nnUNet_results/postprocessed\""
      ],
      "metadata": {
        "id": "UbI2KmNnvPwK"
      },
      "execution_count": null,
      "outputs": []
    },
    {
      "cell_type": "code",
      "source": [
        "segm_src_dir = '/content/drive/MyDrive/TCIA/UPENN-GBM/brats15/'\n",
        "segm_file_list = os.listdir(segm_src_dir)\n",
        "\n",
        "random.shuffle(segm_file_list)\n",
        "\n",
        "train_ratio = 0.8\n",
        "elements = len(segm_file_list)\n",
        "train_elements = int(elements * train_ratio)\n",
        "\n",
        "train_segm_list = segm_file_list[:train_elements]\n",
        "test_segm_list = segm_file_list[train_elements:]\n",
        "\n",
        "print (train_segm_list)\n",
        "len(train_segm_list)"
      ],
      "metadata": {
        "id": "lvSjyWoGxVZV"
      },
      "execution_count": null,
      "outputs": []
    },
    {
      "cell_type": "code",
      "source": [
        "tr_segm_target_dir = '/content/drive/MyDrive/TCIA/nnUNet/nnUNet_raw/Dataset501_Glioblastoma/labelsTr/'\n",
        "\n",
        "for file in train_segm_list:\n",
        "  tr_segm_file = file.split('_')[0]\n",
        "  patient_id = tr_segm_file.split('-')[2]\n",
        "  just_id = int(patient_id.split('.')[0])\n",
        "  print ('!mv ' + segm_src_dir + file + '/'+ file + '-seg.nii.gz' +' ' + tr_segm_target_dir + str(just_id) + '.nii.gz')\n"
      ],
      "metadata": {
        "id": "51WPx8vT0DvG"
      },
      "execution_count": null,
      "outputs": []
    },
    {
      "cell_type": "code",
      "source": [
        "ts_segm_target_dir = '/content/drive/MyDrive/TCIA/nnUNet/nnUNet_raw/Dataset501_Glioblastoma/labelsTs/'\n",
        "\n",
        "for file in test_segm_list:\n",
        "  ts_segm_file = file.split('_')[0]\n",
        "  patient_id = ts_segm_file.split('-')[2]\n",
        "  just_id = int(patient_id)\n",
        "  print ('!mv ' + segm_src_dir + file + '/'+ file + '-seg.nii.gz' +' ' + tr_segm_target_dir + str(just_id) + '.nii.gz')"
      ],
      "metadata": {
        "id": "YEO0fRqyl6vN"
      },
      "execution_count": null,
      "outputs": []
    },
    {
      "cell_type": "code",
      "source": [
        "! git clone https://github.com/MIC-DKFZ/nnUNet/tree/master/nnunetv2"
      ],
      "metadata": {
        "id": "zFYodd6R0PQS"
      },
      "execution_count": null,
      "outputs": []
    },
    {
      "cell_type": "code",
      "source": [
        "mri_img_src_dir = '/content/drive/MyDrive/TCIA/UPENN-GBM/brats15/'\n",
        "tr_img_target_dir = '/content/drive/MyDrive/TCIA/nnUNet/nnUNet_raw/Dataset501_Glioblastoma/imagesTr/'\n",
        "\n",
        "for patient in train_segm_list:\n",
        "  patient_id = patient.split('.')[0]\n",
        "  patient_dir = patient_id\n",
        "  patient_dir_path = mri_img_src_dir + patient_dir\n",
        "  just_id = int(patient_id.split('-')[2])\n",
        "\n",
        "  print ('!mv ' + patient_dir_path + '/' + patient_dir + '-t1c.nii.gz ' + tr_img_target_dir + str(just_id) + '_0000.nii.gz')\n",
        "  print ('!mv ' + patient_dir_path + '/' + patient_dir + '-t1n.nii.gz ' + tr_img_target_dir + str(just_id) + '_0001.nii.gz')\n",
        "  print ('!mv ' + patient_dir_path + '/' + patient_dir + '-t2w.nii.gz ' + tr_img_target_dir + str(just_id) + '_0002.nii.gz')\n",
        "  print ('!mv ' + patient_dir_path + '/' + patient_dir + '-t2f.nii.gz ' + tr_img_target_dir + str(just_id) + '_0003.nii.gz')"
      ],
      "metadata": {
        "id": "wfdm69fCwvDv"
      },
      "execution_count": null,
      "outputs": []
    },
    {
      "cell_type": "code",
      "source": [
        "dmri_img_src_dir = '/content/drive/MyDrive/TCIA/UPENN-GBM/brats15/'\n",
        "ts_img_target_dir = '/content/drive/MyDrive/TCIA/nnUNet/nnUNet_raw/Dataset501_Glioblastoma/imagesTs/'\n",
        "\n",
        "for patient in test_segm_list:\n",
        "  patient_id = patient.split('.')[0]\n",
        "  patient_dir = patient_id\n",
        "  patient_dir_path = mri_img_src_dir + patient_dir\n",
        "  just_id = int(patient_id.split('-')[2])\n",
        "\n",
        "  print ('!mv ' + patient_dir_path + '/' + patient_dir + '-t1c.nii.gz ' + tr_img_target_dir + str(just_id) + '_0000.nii.gz')\n",
        "  print ('!mv ' + patient_dir_path + '/' + patient_dir + '-t1n.nii.gz ' + tr_img_target_dir + str(just_id) + '_0001.nii.gz')\n",
        "  print ('!mv ' + patient_dir_path + '/' + patient_dir + '-t2w.nii.gz ' + tr_img_target_dir + str(just_id) + '_0002.nii.gz')\n",
        "  print ('!mv ' + patient_dir_path + '/' + patient_dir + '-t2f.nii.gz ' + tr_img_target_dir + str(just_id) + '_0003.nii.gz')"
      ],
      "metadata": {
        "id": "-AYrjnqOmqVb"
      },
      "execution_count": null,
      "outputs": []
    },
    {
      "cell_type": "code",
      "source": [
        "base_img_path = '/content/drive/MyDrive/TCIA/nnUNet/nnUNet_raw/Dataset501_Glioblastoma/labelsTr/'\n",
        "tr_label_files = os.listdir(base_img_path)\n",
        "tr_label_files.sort()\n",
        "print(len(tr_label_files))\n",
        "print(tr_label_files)"
      ],
      "metadata": {
        "id": "_VxhlDzg5dGf"
      },
      "execution_count": null,
      "outputs": []
    },
    {
      "cell_type": "code",
      "source": [
        "import matplotlib.pyplot as plt\n",
        "\n",
        "for file in tr_label_files:\n",
        "\n",
        "  file_name = base_img_path + file\n",
        "  img = nib.load(file_name)\n",
        "  print(\"-\"*100)\n",
        "  print (\"Patient label file: \", file)\n",
        "\n",
        "  img_data = img.get_fdata()\n",
        "\n",
        "  print(\"Before label check\")\n",
        "  print(np.amin(img_data),np.amax(img_data))\n",
        "  print(np.unique(img_data))\n",
        "\n",
        "plt.imshow(img_data[:,:,100], cmap='gray')\n",
        "plt.colorbar()\n",
        "plt.show()\n"
      ],
      "metadata": {
        "id": "397R8slb5iJ3"
      },
      "execution_count": null,
      "outputs": []
    },
    {
      "cell_type": "code",
      "source": [
        "for file in tr_label_files:\n",
        "\n",
        "  file_name = base_img_path + file\n",
        "  img = nib.load(file_name)\n",
        "  print(\"-\"*100)\n",
        "  print (\"Patient label file: \", file)\n",
        "\n",
        "  img_data = img.get_fdata()\n",
        "\n",
        "  print(\"Before label check\")\n",
        "  print(np.amin(img_data),np.amax(img_data))\n",
        "  print(np.unique(img_data))\n",
        "\n",
        "  img_data[(img_data == 4.0)] = 3\n",
        "\n",
        "  print(\"After label conversion\")\n",
        "  print(np.amin(img_data),np.amax(img_data))\n",
        "  print(np.unique(img_data))\n",
        "\n",
        "  new_img = nib.Nifti1Image(img_data, img.affine, img.header)\n",
        "\n",
        "  new_img_path = base_img_path + file\n",
        "  print ('Saved to: ' + new_img_path)\n",
        "  nib.save(new_img, new_img_path)"
      ],
      "metadata": {
        "id": "BKDUDvHx5mZI"
      },
      "execution_count": null,
      "outputs": []
    },
    {
      "cell_type": "code",
      "source": [
        "output_folder = '/content/drive/MyDrive/TCIA/nnUNet/nnUNet_raw/Dataset501_Glioblastoma'\n",
        "channel_names = {0: 'T1', 1: 'T1GD', 2:'T2', 3: 'FLAIR'}\n",
        "labels = {'background': 0, 'ET': 1, 'NCR': 2, 'ED': 3}\n",
        "file_ending = '.nii.gz'\n",
        "region_class_order = {\n",
        "  'background': 0,\n",
        "  'whole tumor': (1, 2, 3),\n",
        "  'tumor core': (2, 3),\n",
        "  'enhancing tumor': 3\n",
        "}\n",
        "num_training_cases = 11\n",
        "dataset_name = 'UPENN-GBM'\n",
        "description = 'UPENN-GBM tumor segmentation'"
      ],
      "metadata": {
        "id": "vgxpm-uc51lA"
      },
      "execution_count": null,
      "outputs": []
    },
    {
      "cell_type": "code",
      "source": [
        "from nnunetv2.dataset_conversion.generate_dataset_json import generate_dataset_json\n",
        "generate_dataset_json(output_folder=output_folder,channel_names=channel_names, labels=labels,\n",
        "                      file_ending=file_ending,region_class_order=region_class_order,\n",
        "                      num_training_cases=num_training_cases, dataset_name=dataset_name, description=description)"
      ],
      "metadata": {
        "id": "vACgLdPx54pT"
      },
      "execution_count": null,
      "outputs": []
    },
    {
      "cell_type": "code",
      "source": [
        "os.environ['nnUNet_raw'] = \"/content/drive/MyDrive/TCIA/nnUNet/nnUNet_raw\"\n",
        "os.environ['nnUNet_preprocessed'] =  \"/content/drive/MyDrive/TCIA/nnUNet/nnUNet_preprocessed\"\n",
        "os.environ['nnUNet_results'] = \"/content/drive/MyDrive/TCIA/nnUNet/nnUNet_results\"\n",
        "\n",
        "!nnUNetv2_plan_and_preprocess -d 501 --verify_dataset_integrity"
      ],
      "metadata": {
        "id": "PBKGXFjh55r4"
      },
      "execution_count": null,
      "outputs": []
    },
    {
      "cell_type": "code",
      "source": [
        "! nnUNetv2_train Dataset501_Glioblastoma 3d_fullres 0 --npz"
      ],
      "metadata": {
        "id": "epFU0_p36cBw"
      },
      "execution_count": null,
      "outputs": []
    },
    {
      "cell_type": "code",
      "source": [
        "!nnUNetv2_find_best_configuration DatasetGlioma -c 3d_fullres"
      ],
      "metadata": {
        "id": "ka3VfWySsq0Y"
      },
      "execution_count": null,
      "outputs": []
    },
    {
      "cell_type": "code",
      "source": [
        "!nnUNetv2_predict -d Dataset501_Glioblastoma -i /content/drive/MyDrive/TCIA/nnUNet/nnUNet_raw/Dataset501_Glioblastoma/imagesTs -o /content/drive/MyDrive/TCIA/nnUNet/nnUNet_results/Dataset501_Glioblastoma/inference -f  0 1 2 3 4 -tr nnUNetTrainer -c 3d_fullres -p nnUNetPlans"
      ],
      "metadata": {
        "id": "XO20MCUPst_H"
      },
      "execution_count": null,
      "outputs": []
    }
  ]
}